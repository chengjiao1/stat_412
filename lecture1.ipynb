{
 "cells": [
  {
   "cell_type": "markdown",
   "metadata": {},
   "source": [
    "### Lecture 1\n",
    "Section 1\n"
   ]
  },
  {
   "cell_type": "markdown",
   "metadata": {},
   "source": [
    "There are 5 steps to upload a local project to github.com\n",
    "\n",
    "\n",
    "Step 1: There must exists a repository with the same name with the dirctory\n",
    "```\n",
    "git init\n",
    "```\n",
    "\n",
    "Step 2: Upload single or multiple files\n",
    "```\n",
    "git add .\n",
    "git add filename\n",
    "```\n",
    "\n",
    "Step 3: Commit your changes\n",
    "```\n",
    "git commit -m \"Add all my files in this directory\"\n",
    "git commit -m \"Adding Files\"\n",
    "```\n",
    "\n",
    "Step 4: Choose remote repository\n",
    "    \n",
    "```\n",
    "git remote add origin https://github.com/yourusername/your-repo-name.git\n",
    "```\n",
    "\n",
    "```\n",
    "git remote rm origin\n",
    "git remote add origin https://github.com/chengjiao1/stat_412.git\n",
    "```    \n",
    "\n",
    "Step 5: Push(upload) commited files\n",
    "```\n",
    "git push origin master\n",
    "```\n",
    "\n",
    "Then the message comes out:\n",
    "\n",
    "```\n",
    "Username for 'https://github.com': chengjiao1\n",
    "Password for 'https://chengjiao1@github.com': \n",
    "Everything up-to-date\n",
    "```"
   ]
  }
 ],
 "metadata": {
  "kernelspec": {
   "display_name": "Python 2",
   "language": "python",
   "name": "python2"
  },
  "language_info": {
   "codemirror_mode": {
    "name": "ipython",
    "version": 2
   },
   "file_extension": ".py",
   "mimetype": "text/x-python",
   "name": "python",
   "nbconvert_exporter": "python",
   "pygments_lexer": "ipython2",
   "version": "2.7.12"
  }
 },
 "nbformat": 4,
 "nbformat_minor": 2
}
